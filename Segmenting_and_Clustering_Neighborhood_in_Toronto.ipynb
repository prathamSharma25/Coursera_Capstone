{
  "nbformat": 4,
  "nbformat_minor": 0,
  "metadata": {
    "colab": {
      "name": "Segmenting_and_Clustering_Neighborhood_in_Toronto.ipynb",
      "provenance": [],
      "collapsed_sections": []
    },
    "kernelspec": {
      "name": "python3",
      "display_name": "Python 3"
    },
    "language_info": {
      "name": "python"
    }
  },
  "cells": [
    {
      "cell_type": "markdown",
      "metadata": {
        "id": "P2IsjTcZmOI2"
      },
      "source": [
        "<center>\n",
        "<h1><b>Segmenting and Clustering Neighborhoods in Toronto</b><h1>\n",
        "<h3><b>Week 2 Assignment</b></h3>\n",
        "<br>\n",
        "<h3>IBM Data Science Professional Certificate<h3>\n",
        "<h4>Course 10 - Applied Data Science Capstone</h4>\n",
        "<br>\n",
        "<h4>Submitted by Pratham Sharma</h4>\n",
        "</center>"
      ]
    },
    {
      "cell_type": "markdown",
      "metadata": {
        "id": "wLZHFeLSFSCS"
      },
      "source": [
        "This is the Jupyter Notebook for the assignment for week 2 of the course \"Applied Data Science Capstone\" of the IBM Data Science Professional Certificate specialization on Coursera.\n",
        "\n",
        "The task is to scrape data for neighborhoods in Toronto, CA from Wikipedia. The data is then transformed into a DataFrame using BeautifulSoup and Pandas."
      ]
    },
    {
      "cell_type": "markdown",
      "metadata": {
        "id": "cYppMQU4bFvN"
      },
      "source": [
        "# Libraries & Packages"
      ]
    },
    {
      "cell_type": "markdown",
      "metadata": {
        "id": "meUfIco6n2PN"
      },
      "source": [
        "All required packages and libraries are imported in the following code cell."
      ]
    },
    {
      "cell_type": "code",
      "metadata": {
        "id": "ljl29Z8oFiex",
        "colab": {
          "base_uri": "https://localhost:8080/"
        },
        "outputId": "a8cf4ef5-c1e6-4910-c1bc-6b42372e21bd"
      },
      "source": [
        "# For getting Wikipedia page from URl hrough get request\n",
        "import requests\n",
        "\n",
        "# For scraping information from the HTML source\n",
        "from bs4 import BeautifulSoup\n",
        "\n",
        "# To create the DataFrame for neighborhood data\n",
        "import pandas as pd\n",
        "pd.set_option('display.max_columns', None)\n",
        "pd.set_option('display.max_rows', None)\n",
        "\n",
        "print(\"Libraries Imported!\")"
      ],
      "execution_count": 1,
      "outputs": [
        {
          "output_type": "stream",
          "text": [
            "Libraries Imported!\n"
          ],
          "name": "stdout"
        }
      ]
    },
    {
      "cell_type": "markdown",
      "metadata": {
        "id": "rZjfune_blfI"
      },
      "source": [
        "# Web Scraping"
      ]
    },
    {
      "cell_type": "markdown",
      "metadata": {
        "id": "0fz2snK5oB4_"
      },
      "source": [
        "The following code cell includes the code for scraping data from the Wikipedia page titled 'List of postal codes of Canada: M'. The scraped web page is transformed into a Pandas DataFrame.\n",
        "\n",
        "The DataFrame consist of three columns - 'Postal Code', 'Borough' and 'Neighborhood'.\n",
        "\n",
        "Finally, the number of records (rows) in the DataFrame is displayed."
      ]
    },
    {
      "cell_type": "code",
      "metadata": {
        "colab": {
          "base_uri": "https://localhost:8080/",
          "height": 343
        },
        "id": "MfP-Agb6bkMC",
        "outputId": "a68d654e-a333-4b9a-bfc6-c2b14797cdef"
      },
      "source": [
        "# Get the HTML source\n",
        "source = requests.get(\"https://en.wikipedia.org/wiki/List_of_postal_codes_of_Canada:_M\")\n",
        "soup = BeautifulSoup(source.text, 'lxml')\n",
        "\n",
        "# Initialise empty list to store table contents\n",
        "table_contents = []\n",
        "\n",
        "# Scrape all information in the HTML 'table' tag\n",
        "table = soup.find('table')\n",
        "# Scrape information in table rows i.e., HTML 'td' tag\n",
        "for row in table.findAll('td'):\n",
        "    # Store record of DataFrame\n",
        "    cell = {}\n",
        "    # Drop record if borough is 'Not assigned'\n",
        "    if row.span.text=='Not assigned':\n",
        "        pass\n",
        "    else:\n",
        "        # Add PostalCode, Borough and Neighborhoogd to record\n",
        "        cell['PostalCode'] = row.p.text[:3]\n",
        "        cell['Borough'] = (row.span.text).split('(')[0]\n",
        "        cell['Neighborhood'] = (((((row.span.text).split('(')[1]).strip(')')).replace(' /',',')).replace(')',' ')).strip(' ')\n",
        "        table_contents.append(cell)\n",
        "\n",
        "# Create Pandas DataFrame\n",
        "df = pd.DataFrame(table_contents)\n",
        "\n",
        "# Replace Borough values with appropriate name\n",
        "df['Borough'] = df['Borough'].replace({'Downtown TorontoStn A PO Boxes25 The Esplanade':'Downtown Toronto Stn A',\n",
        "                                     'East TorontoBusiness reply mail Processing Centre969 Eastern':'East Toronto Business',\n",
        "                                     'EtobicokeNorthwest':'Etobicoke Northwest','East YorkEast Toronto':'East York/East Toronto',\n",
        "                                     'MississaugaCanada Post Gateway Processing Centre':'Mississauga'})\n",
        "\n",
        "# Diaplay first 10 records\n",
        "df.head(10)"
      ],
      "execution_count": 2,
      "outputs": [
        {
          "output_type": "execute_result",
          "data": {
            "text/html": [
              "<div>\n",
              "<style scoped>\n",
              "    .dataframe tbody tr th:only-of-type {\n",
              "        vertical-align: middle;\n",
              "    }\n",
              "\n",
              "    .dataframe tbody tr th {\n",
              "        vertical-align: top;\n",
              "    }\n",
              "\n",
              "    .dataframe thead th {\n",
              "        text-align: right;\n",
              "    }\n",
              "</style>\n",
              "<table border=\"1\" class=\"dataframe\">\n",
              "  <thead>\n",
              "    <tr style=\"text-align: right;\">\n",
              "      <th></th>\n",
              "      <th>PostalCode</th>\n",
              "      <th>Borough</th>\n",
              "      <th>Neighborhood</th>\n",
              "    </tr>\n",
              "  </thead>\n",
              "  <tbody>\n",
              "    <tr>\n",
              "      <th>0</th>\n",
              "      <td>M3A</td>\n",
              "      <td>North York</td>\n",
              "      <td>Parkwoods</td>\n",
              "    </tr>\n",
              "    <tr>\n",
              "      <th>1</th>\n",
              "      <td>M4A</td>\n",
              "      <td>North York</td>\n",
              "      <td>Victoria Village</td>\n",
              "    </tr>\n",
              "    <tr>\n",
              "      <th>2</th>\n",
              "      <td>M5A</td>\n",
              "      <td>Downtown Toronto</td>\n",
              "      <td>Regent Park, Harbourfront</td>\n",
              "    </tr>\n",
              "    <tr>\n",
              "      <th>3</th>\n",
              "      <td>M6A</td>\n",
              "      <td>North York</td>\n",
              "      <td>Lawrence Manor, Lawrence Heights</td>\n",
              "    </tr>\n",
              "    <tr>\n",
              "      <th>4</th>\n",
              "      <td>M7A</td>\n",
              "      <td>Queen's Park</td>\n",
              "      <td>Ontario Provincial Government</td>\n",
              "    </tr>\n",
              "    <tr>\n",
              "      <th>5</th>\n",
              "      <td>M9A</td>\n",
              "      <td>Etobicoke</td>\n",
              "      <td>Islington Avenue</td>\n",
              "    </tr>\n",
              "    <tr>\n",
              "      <th>6</th>\n",
              "      <td>M1B</td>\n",
              "      <td>Scarborough</td>\n",
              "      <td>Malvern, Rouge</td>\n",
              "    </tr>\n",
              "    <tr>\n",
              "      <th>7</th>\n",
              "      <td>M3B</td>\n",
              "      <td>North York</td>\n",
              "      <td>Don Mills North</td>\n",
              "    </tr>\n",
              "    <tr>\n",
              "      <th>8</th>\n",
              "      <td>M4B</td>\n",
              "      <td>East York</td>\n",
              "      <td>Parkview Hill, Woodbine Gardens</td>\n",
              "    </tr>\n",
              "    <tr>\n",
              "      <th>9</th>\n",
              "      <td>M5B</td>\n",
              "      <td>Downtown Toronto</td>\n",
              "      <td>Garden District, Ryerson</td>\n",
              "    </tr>\n",
              "  </tbody>\n",
              "</table>\n",
              "</div>"
            ],
            "text/plain": [
              "  PostalCode           Borough                      Neighborhood\n",
              "0        M3A        North York                         Parkwoods\n",
              "1        M4A        North York                  Victoria Village\n",
              "2        M5A  Downtown Toronto         Regent Park, Harbourfront\n",
              "3        M6A        North York  Lawrence Manor, Lawrence Heights\n",
              "4        M7A      Queen's Park     Ontario Provincial Government\n",
              "5        M9A         Etobicoke                  Islington Avenue\n",
              "6        M1B       Scarborough                    Malvern, Rouge\n",
              "7        M3B        North York                   Don Mills North\n",
              "8        M4B         East York   Parkview Hill, Woodbine Gardens\n",
              "9        M5B  Downtown Toronto          Garden District, Ryerson"
            ]
          },
          "metadata": {
            "tags": []
          },
          "execution_count": 2
        }
      ]
    },
    {
      "cell_type": "code",
      "metadata": {
        "colab": {
          "base_uri": "https://localhost:8080/"
        },
        "id": "9IP2iIh9iYSs",
        "outputId": "3d22ddcf-080c-4dbb-8cb3-67d95bdde0e8"
      },
      "source": [
        "# Display umber of rows\n",
        "print('Number of rows in DataFrame: {}'.format(df.shape[0]))"
      ],
      "execution_count": 3,
      "outputs": [
        {
          "output_type": "stream",
          "text": [
            "Number of rows in DataFrame: 103\n"
          ],
          "name": "stdout"
        }
      ]
    }
  ]
}