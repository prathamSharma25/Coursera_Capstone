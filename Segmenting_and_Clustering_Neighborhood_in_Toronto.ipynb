{
  "nbformat": 4,
  "nbformat_minor": 0,
  "metadata": {
    "colab": {
      "name": "Segmenting_and_Clustering_Neighborhood_in_Toronto.ipynb",
      "provenance": [],
      "collapsed_sections": []
    },
    "kernelspec": {
      "name": "python3",
      "display_name": "Python 3"
    },
    "language_info": {
      "name": "python"
    }
  },
  "cells": [
    {
      "cell_type": "markdown",
      "metadata": {
        "id": "P2IsjTcZmOI2"
      },
      "source": [
        "<center>\n",
        "<h1><b>Segmenting and Clustering Neighborhoods in Toronto</b><h1>\n",
        "<h3><b>Week 2 Assignment</b></h3>\n",
        "<br>\n",
        "<h3>IBM Data Science Professional Certificate<h3>\n",
        "<h4>Course 10 - Applied Data Science Capstone</h4>\n",
        "<br>\n",
        "<h4>Submitted by Pratham Sharma</h4>\n",
        "</center>"
      ]
    },
    {
      "cell_type": "markdown",
      "metadata": {
        "id": "wLZHFeLSFSCS"
      },
      "source": [
        "This is the Jupyter Notebook for the assignment for week 2 of the course \"Applied Data Science Capstone\" of the IBM Data Science Professional Certificate specialization on Coursera.\n",
        "\n",
        "The task is to scrape data for neighborhoods in Toronto, CA from Wikipedia. The data is then transformed into a DataFrame using BeautifulSoup and Pandas."
      ]
    },
    {
      "cell_type": "markdown",
      "metadata": {
        "id": "cYppMQU4bFvN"
      },
      "source": [
        "# Libraries & Packages"
      ]
    },
    {
      "cell_type": "markdown",
      "metadata": {
        "id": "meUfIco6n2PN"
      },
      "source": [
        "All required packages and libraries are imported in the following code cell."
      ]
    },
    {
      "cell_type": "code",
      "metadata": {
        "id": "ljl29Z8oFiex",
        "colab": {
          "base_uri": "https://localhost:8080/"
        },
        "outputId": "6f2df395-8f12-4c42-afc9-9705ffd62cb4"
      },
      "source": [
        "# For getting Wikipedia page from URl hrough get request\n",
        "import requests\n",
        "\n",
        "# For scraping information from the HTML source\n",
        "from bs4 import BeautifulSoup\n",
        "\n",
        "# To create the DataFrame for neighborhood data\n",
        "import pandas as pd\n",
        "pd.set_option('display.max_columns', None)\n",
        "pd.set_option('display.max_rows', None)\n",
        "\n",
        "\n",
        "# To get latitude and longitude values for given address\n",
        "!pip install geopy==2.1.0\n",
        "from geopy.geocoders import Nominatim\n",
        "\n",
        "print(\"Libraries Imported!\")"
      ],
      "execution_count": 1,
      "outputs": [
        {
          "output_type": "stream",
          "text": [
            "Requirement already satisfied: geopy==2.1.0 in /usr/local/lib/python3.7/dist-packages (2.1.0)\n",
            "Requirement already satisfied: geographiclib<2,>=1.49 in /usr/local/lib/python3.7/dist-packages (from geopy==2.1.0) (1.50)\n",
            "Libraries Imported!\n"
          ],
          "name": "stdout"
        }
      ]
    },
    {
      "cell_type": "markdown",
      "metadata": {
        "id": "rZjfune_blfI"
      },
      "source": [
        "# Web Scraping"
      ]
    },
    {
      "cell_type": "markdown",
      "metadata": {
        "id": "0fz2snK5oB4_"
      },
      "source": [
        "The following code cell includes the code for scraping data from the Wikipedia page titled 'List of postal codes of Canada: M'. The scraped web page is transformed into a Pandas DataFrame.\n",
        "\n",
        "The DataFrame consist of three columns - 'Postal Code', 'Borough' and 'Neighborhood'.\n",
        "\n",
        "Finally, the number of records (rows) in the DataFrame is displayed."
      ]
    },
    {
      "cell_type": "code",
      "metadata": {
        "colab": {
          "base_uri": "https://localhost:8080/",
          "height": 343
        },
        "id": "MfP-Agb6bkMC",
        "outputId": "cb43c884-da34-416f-a651-9435bd4e6870"
      },
      "source": [
        "# Get the HTML source\n",
        "source = requests.get(\"https://en.wikipedia.org/wiki/List_of_postal_codes_of_Canada:_M\")\n",
        "soup = BeautifulSoup(source.text, 'lxml')\n",
        "\n",
        "# Initialise empty list to store table contents\n",
        "table_contents = []\n",
        "\n",
        "# Scrape all information in the HTML 'table' tag\n",
        "table = soup.find('table')\n",
        "# Scrape information in table rows i.e., HTML 'td' tag\n",
        "for row in table.findAll('td'):\n",
        "    # Store record of DataFrame\n",
        "    cell = {}\n",
        "    # Drop record if borough is 'Not assigned'\n",
        "    if row.span.text=='Not assigned':\n",
        "        pass\n",
        "    else:\n",
        "        # Add PostalCode, Borough and Neighborhoogd to record\n",
        "        cell['Postal Code'] = row.p.text[:3]\n",
        "        cell['Borough'] = (row.span.text).split('(')[0]\n",
        "        cell['Neighborhood'] = (((((row.span.text).split('(')[1]).strip(')')).replace(' /',',')).replace(')',' ')).strip(' ')\n",
        "        table_contents.append(cell)\n",
        "\n",
        "# Create Pandas DataFrame\n",
        "canada_df = pd.DataFrame(table_contents)\n",
        "\n",
        "# Replace Borough values with appropriate name\n",
        "canada_df['Borough'] = canada_df['Borough'].replace({'Downtown TorontoStn A PO Boxes25 The Esplanade':'Downtown Toronto Stn A',\n",
        "                                     'East TorontoBusiness reply mail Processing Centre969 Eastern':'East Toronto Business',\n",
        "                                     'EtobicokeNorthwest':'Etobicoke Northwest','East YorkEast Toronto':'East York/East Toronto',\n",
        "                                     'MississaugaCanada Post Gateway Processing Centre':'Mississauga'})\n",
        "\n",
        "# Diaplay first 10 records\n",
        "canada_df.head(10)"
      ],
      "execution_count": 2,
      "outputs": [
        {
          "output_type": "execute_result",
          "data": {
            "text/html": [
              "<div>\n",
              "<style scoped>\n",
              "    .dataframe tbody tr th:only-of-type {\n",
              "        vertical-align: middle;\n",
              "    }\n",
              "\n",
              "    .dataframe tbody tr th {\n",
              "        vertical-align: top;\n",
              "    }\n",
              "\n",
              "    .dataframe thead th {\n",
              "        text-align: right;\n",
              "    }\n",
              "</style>\n",
              "<table border=\"1\" class=\"dataframe\">\n",
              "  <thead>\n",
              "    <tr style=\"text-align: right;\">\n",
              "      <th></th>\n",
              "      <th>Postal Code</th>\n",
              "      <th>Borough</th>\n",
              "      <th>Neighborhood</th>\n",
              "    </tr>\n",
              "  </thead>\n",
              "  <tbody>\n",
              "    <tr>\n",
              "      <th>0</th>\n",
              "      <td>M3A</td>\n",
              "      <td>North York</td>\n",
              "      <td>Parkwoods</td>\n",
              "    </tr>\n",
              "    <tr>\n",
              "      <th>1</th>\n",
              "      <td>M4A</td>\n",
              "      <td>North York</td>\n",
              "      <td>Victoria Village</td>\n",
              "    </tr>\n",
              "    <tr>\n",
              "      <th>2</th>\n",
              "      <td>M5A</td>\n",
              "      <td>Downtown Toronto</td>\n",
              "      <td>Regent Park, Harbourfront</td>\n",
              "    </tr>\n",
              "    <tr>\n",
              "      <th>3</th>\n",
              "      <td>M6A</td>\n",
              "      <td>North York</td>\n",
              "      <td>Lawrence Manor, Lawrence Heights</td>\n",
              "    </tr>\n",
              "    <tr>\n",
              "      <th>4</th>\n",
              "      <td>M7A</td>\n",
              "      <td>Queen's Park</td>\n",
              "      <td>Ontario Provincial Government</td>\n",
              "    </tr>\n",
              "    <tr>\n",
              "      <th>5</th>\n",
              "      <td>M9A</td>\n",
              "      <td>Etobicoke</td>\n",
              "      <td>Islington Avenue</td>\n",
              "    </tr>\n",
              "    <tr>\n",
              "      <th>6</th>\n",
              "      <td>M1B</td>\n",
              "      <td>Scarborough</td>\n",
              "      <td>Malvern, Rouge</td>\n",
              "    </tr>\n",
              "    <tr>\n",
              "      <th>7</th>\n",
              "      <td>M3B</td>\n",
              "      <td>North York</td>\n",
              "      <td>Don Mills North</td>\n",
              "    </tr>\n",
              "    <tr>\n",
              "      <th>8</th>\n",
              "      <td>M4B</td>\n",
              "      <td>East York</td>\n",
              "      <td>Parkview Hill, Woodbine Gardens</td>\n",
              "    </tr>\n",
              "    <tr>\n",
              "      <th>9</th>\n",
              "      <td>M5B</td>\n",
              "      <td>Downtown Toronto</td>\n",
              "      <td>Garden District, Ryerson</td>\n",
              "    </tr>\n",
              "  </tbody>\n",
              "</table>\n",
              "</div>"
            ],
            "text/plain": [
              "  Postal Code           Borough                      Neighborhood\n",
              "0         M3A        North York                         Parkwoods\n",
              "1         M4A        North York                  Victoria Village\n",
              "2         M5A  Downtown Toronto         Regent Park, Harbourfront\n",
              "3         M6A        North York  Lawrence Manor, Lawrence Heights\n",
              "4         M7A      Queen's Park     Ontario Provincial Government\n",
              "5         M9A         Etobicoke                  Islington Avenue\n",
              "6         M1B       Scarborough                    Malvern, Rouge\n",
              "7         M3B        North York                   Don Mills North\n",
              "8         M4B         East York   Parkview Hill, Woodbine Gardens\n",
              "9         M5B  Downtown Toronto          Garden District, Ryerson"
            ]
          },
          "metadata": {
            "tags": []
          },
          "execution_count": 2
        }
      ]
    },
    {
      "cell_type": "code",
      "metadata": {
        "colab": {
          "base_uri": "https://localhost:8080/"
        },
        "id": "9IP2iIh9iYSs",
        "outputId": "551a1f45-ecfc-4880-c4b0-0fa1b39c867c"
      },
      "source": [
        "# Display umber of rows\n",
        "print('Number of rows in DataFrame: {}'.format(canada_df.shape[0]))"
      ],
      "execution_count": 3,
      "outputs": [
        {
          "output_type": "stream",
          "text": [
            "Number of rows in DataFrame: 103\n"
          ],
          "name": "stdout"
        }
      ]
    },
    {
      "cell_type": "markdown",
      "metadata": {
        "id": "jk52smahqpJC"
      },
      "source": [
        "# Coordinates for Neighborhodds"
      ]
    },
    {
      "cell_type": "markdown",
      "metadata": {
        "id": "mAttbu02uSQ6"
      },
      "source": [
        "Finally, here I have added the columns for latitude and longitude values by joining the DataFrame created above with the Geospatial dataset provided."
      ]
    },
    {
      "cell_type": "code",
      "metadata": {
        "colab": {
          "base_uri": "https://localhost:8080/",
          "height": 343
        },
        "id": "YurQ7tSFqt6x",
        "outputId": "30f73ae8-a762-463b-d009-f72d47ca5254"
      },
      "source": [
        "geospatial_data = pd.read_csv('Geospatial_Coordinates.csv')\n",
        "\n",
        "canada_df = canada_df.join(geospatial_data.set_index('Postal Code'), on='Postal Code')\n",
        "canada_df.head(10)"
      ],
      "execution_count": 4,
      "outputs": [
        {
          "output_type": "execute_result",
          "data": {
            "text/html": [
              "<div>\n",
              "<style scoped>\n",
              "    .dataframe tbody tr th:only-of-type {\n",
              "        vertical-align: middle;\n",
              "    }\n",
              "\n",
              "    .dataframe tbody tr th {\n",
              "        vertical-align: top;\n",
              "    }\n",
              "\n",
              "    .dataframe thead th {\n",
              "        text-align: right;\n",
              "    }\n",
              "</style>\n",
              "<table border=\"1\" class=\"dataframe\">\n",
              "  <thead>\n",
              "    <tr style=\"text-align: right;\">\n",
              "      <th></th>\n",
              "      <th>Postal Code</th>\n",
              "      <th>Borough</th>\n",
              "      <th>Neighborhood</th>\n",
              "      <th>Latitude</th>\n",
              "      <th>Longitude</th>\n",
              "    </tr>\n",
              "  </thead>\n",
              "  <tbody>\n",
              "    <tr>\n",
              "      <th>0</th>\n",
              "      <td>M3A</td>\n",
              "      <td>North York</td>\n",
              "      <td>Parkwoods</td>\n",
              "      <td>43.753259</td>\n",
              "      <td>-79.329656</td>\n",
              "    </tr>\n",
              "    <tr>\n",
              "      <th>1</th>\n",
              "      <td>M4A</td>\n",
              "      <td>North York</td>\n",
              "      <td>Victoria Village</td>\n",
              "      <td>43.725882</td>\n",
              "      <td>-79.315572</td>\n",
              "    </tr>\n",
              "    <tr>\n",
              "      <th>2</th>\n",
              "      <td>M5A</td>\n",
              "      <td>Downtown Toronto</td>\n",
              "      <td>Regent Park, Harbourfront</td>\n",
              "      <td>43.654260</td>\n",
              "      <td>-79.360636</td>\n",
              "    </tr>\n",
              "    <tr>\n",
              "      <th>3</th>\n",
              "      <td>M6A</td>\n",
              "      <td>North York</td>\n",
              "      <td>Lawrence Manor, Lawrence Heights</td>\n",
              "      <td>43.718518</td>\n",
              "      <td>-79.464763</td>\n",
              "    </tr>\n",
              "    <tr>\n",
              "      <th>4</th>\n",
              "      <td>M7A</td>\n",
              "      <td>Queen's Park</td>\n",
              "      <td>Ontario Provincial Government</td>\n",
              "      <td>43.662301</td>\n",
              "      <td>-79.389494</td>\n",
              "    </tr>\n",
              "    <tr>\n",
              "      <th>5</th>\n",
              "      <td>M9A</td>\n",
              "      <td>Etobicoke</td>\n",
              "      <td>Islington Avenue</td>\n",
              "      <td>43.667856</td>\n",
              "      <td>-79.532242</td>\n",
              "    </tr>\n",
              "    <tr>\n",
              "      <th>6</th>\n",
              "      <td>M1B</td>\n",
              "      <td>Scarborough</td>\n",
              "      <td>Malvern, Rouge</td>\n",
              "      <td>43.806686</td>\n",
              "      <td>-79.194353</td>\n",
              "    </tr>\n",
              "    <tr>\n",
              "      <th>7</th>\n",
              "      <td>M3B</td>\n",
              "      <td>North York</td>\n",
              "      <td>Don Mills North</td>\n",
              "      <td>43.745906</td>\n",
              "      <td>-79.352188</td>\n",
              "    </tr>\n",
              "    <tr>\n",
              "      <th>8</th>\n",
              "      <td>M4B</td>\n",
              "      <td>East York</td>\n",
              "      <td>Parkview Hill, Woodbine Gardens</td>\n",
              "      <td>43.706397</td>\n",
              "      <td>-79.309937</td>\n",
              "    </tr>\n",
              "    <tr>\n",
              "      <th>9</th>\n",
              "      <td>M5B</td>\n",
              "      <td>Downtown Toronto</td>\n",
              "      <td>Garden District, Ryerson</td>\n",
              "      <td>43.657162</td>\n",
              "      <td>-79.378937</td>\n",
              "    </tr>\n",
              "  </tbody>\n",
              "</table>\n",
              "</div>"
            ],
            "text/plain": [
              "  Postal Code           Borough                      Neighborhood   Latitude  \\\n",
              "0         M3A        North York                         Parkwoods  43.753259   \n",
              "1         M4A        North York                  Victoria Village  43.725882   \n",
              "2         M5A  Downtown Toronto         Regent Park, Harbourfront  43.654260   \n",
              "3         M6A        North York  Lawrence Manor, Lawrence Heights  43.718518   \n",
              "4         M7A      Queen's Park     Ontario Provincial Government  43.662301   \n",
              "5         M9A         Etobicoke                  Islington Avenue  43.667856   \n",
              "6         M1B       Scarborough                    Malvern, Rouge  43.806686   \n",
              "7         M3B        North York                   Don Mills North  43.745906   \n",
              "8         M4B         East York   Parkview Hill, Woodbine Gardens  43.706397   \n",
              "9         M5B  Downtown Toronto          Garden District, Ryerson  43.657162   \n",
              "\n",
              "   Longitude  \n",
              "0 -79.329656  \n",
              "1 -79.315572  \n",
              "2 -79.360636  \n",
              "3 -79.464763  \n",
              "4 -79.389494  \n",
              "5 -79.532242  \n",
              "6 -79.194353  \n",
              "7 -79.352188  \n",
              "8 -79.309937  \n",
              "9 -79.378937  "
            ]
          },
          "metadata": {
            "tags": []
          },
          "execution_count": 4
        }
      ]
    }
  ]
}