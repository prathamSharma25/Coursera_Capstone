{
  "nbformat": 4,
  "nbformat_minor": 0,
  "metadata": {
    "colab": {
      "name": "IBM Applied Data Science Capstone.ipynb",
      "provenance": [],
      "collapsed_sections": []
    },
    "kernelspec": {
      "name": "python3",
      "display_name": "Python 3"
    },
    "language_info": {
      "name": "python"
    }
  },
  "cells": [
    {
      "cell_type": "markdown",
      "metadata": {
        "id": "wLZHFeLSFSCS"
      },
      "source": [
        "This is the Jupyter Notebook for the applied capstone project of the IBM Data Science Professional Certificate specialization on Coursera."
      ]
    },
    {
      "cell_type": "code",
      "metadata": {
        "id": "ljl29Z8oFiex"
      },
      "source": [
        "# Import required libraries\n",
        "import pandas as pd\n",
        "import numpy as np"
      ],
      "execution_count": 1,
      "outputs": []
    },
    {
      "cell_type": "code",
      "metadata": {
        "colab": {
          "base_uri": "https://localhost:8080/"
        },
        "id": "2eI5FlAuF0Wx",
        "outputId": "42ecb99b-1607-4b3a-af7c-f4dc3571d9ac"
      },
      "source": [
        "# Print \"Hello capstone Project Course\"\n",
        "print('Hello Capstone Project Course')"
      ],
      "execution_count": 2,
      "outputs": [
        {
          "output_type": "stream",
          "text": [
            "Hello Capstone Project Course\n"
          ],
          "name": "stdout"
        }
      ]
    }
  ]
}